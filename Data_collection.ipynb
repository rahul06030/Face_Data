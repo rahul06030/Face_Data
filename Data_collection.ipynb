{
 "cells": [
  {
   "cell_type": "code",
   "execution_count": 5,
   "metadata": {},
   "outputs": [],
   "source": [
    "import tkinter as tk\n",
    "from tkinter import messagebox as mb \n",
    "import os\n",
    "import cv2\n",
    "import numpy as np\n",
    "import tkinter.font as font\n",
    "face_classifier = cv2.CascadeClassifier('haarcascade_frontalface_default.xml')"
   ]
  },
  {
   "cell_type": "code",
   "execution_count": 6,
   "metadata": {},
   "outputs": [],
   "source": [
    "def call():\n",
    "    name= entry.get()\n",
    "    res = mb.askquestion('Update Data?', 'Do you want to Delte existing file and Add new?') \n",
    "    if res == 'yes' : \n",
    "        update()\n",
    "    else : \n",
    "        mb.showinfo('Return', 'Returning to main application') "
   ]
  },
  {
   "cell_type": "code",
   "execution_count": 7,
   "metadata": {},
   "outputs": [],
   "source": [
    "def capture(path):\n",
    "    def face_extractor(img):\n",
    "        cropped_face=None\n",
    "        faces = face_classifier.detectMultiScale(img, 1.3, 5,minSize=(75,75))\n",
    "        for (x,y,w,h) in faces:\n",
    "            x=x-10\n",
    "            y=y-10\n",
    "            cropped_face = img[y:y+h+50, x:x+w+50]\n",
    "        return cropped_face\n",
    "    cap = cv2.VideoCapture(0)\n",
    "    count = 0\n",
    "    max_count=300\n",
    "    try:\n",
    "        while True:            \n",
    "            ret, frame = cap.read()\n",
    "            if face_extractor(frame) is not None:\n",
    "                count += 1\n",
    "                face=face_extractor(frame)\n",
    "                file_name_path =path+str(count) + '.jpg'\n",
    "                cv2.imwrite(file_name_path, face)\n",
    "                cv2.putText(face, str(count), (50, 50), cv2.FONT_HERSHEY_COMPLEX, 1, (222,255,200), 2)\n",
    "                cv2.imshow('Capturing ', face)\n",
    "            if cv2.waitKey(1) == 13 or count == max_count: #13 is the Enter Key\n",
    "                break\n",
    "    except:\n",
    "        pass\n",
    "    cap.release()\n",
    "    cv2.destroyAllWindows()      \n",
    "    print(\"Collected Samples\")\n",
    "\n",
    "def create_folder(name):\n",
    "    parent_dir1 = \"../images/\"\n",
    "    path1 = os.path.join(parent_dir1, name)\n",
    "    try: \n",
    "        os.makedirs(path1, exist_ok = True)\n",
    "        print(\"Directory '%s' created successfully for user \" % name) \n",
    "    except OSError as error: \n",
    "        print(\"Directory '%s' can not be created for user \" % name)\n",
    "    return path1+'/'\n",
    "def remove(name):\n",
    "    parent_dir1 = \"C:/Users/Rahul/Desktop/images/\"\n",
    "    path1 = os.path.join(parent_dir1, name)\n",
    "    try: \n",
    "        os.remove(path1)\n",
    "        print(\"Directory '%s' Deleted successfully for user \" % name) \n",
    "    except OSError as error: \n",
    "        print(\"Directory '%s' Not Found for user \" % name)\n",
    "    \n",
    "    "
   ]
  },
  {
   "cell_type": "code",
   "execution_count": 8,
   "metadata": {},
   "outputs": [],
   "source": [
    "def new_data():\n",
    "    name= entry.get()\n",
    "    path=create_folder(name)\n",
    "    capture(path)\n",
    "    mb.showinfo(\"Done\",\"Taken Your Images.\")  \n",
    "    \n",
    "\n",
    "def update():\n",
    "    name=entry.get()\n",
    "    remove(name)\n",
    "    path=create_folder(name)\n",
    "    capture(path)\n",
    "    messagebox.showinfo(\"Done\",\"Updated ur Images.\")  \n"
   ]
  },
  {
   "cell_type": "code",
   "execution_count": 26,
   "metadata": {},
   "outputs": [
    {
     "name": "stdout",
     "output_type": "stream",
     "text": [
      "Directory '' created successfully for user \n",
      "Collected Samples\n",
      "Directory '' Not Found for user \n",
      "Directory '' created successfully for user \n",
      "Collected Samples\n"
     ]
    },
    {
     "name": "stderr",
     "output_type": "stream",
     "text": [
      "Exception in Tkinter callback\n",
      "Traceback (most recent call last):\n",
      "  File \"E:\\Anaconda\\lib\\tkinter\\__init__.py\", line 1883, in __call__\n",
      "    return self.func(*args)\n",
      "  File \"<ipython-input-6-2d048147d855>\", line 5, in call\n",
      "    update()\n",
      "  File \"<ipython-input-8-cce2455d55ca>\", line 13, in update\n",
      "    messagebox.showinfo(\"Done\",\"Updated ur Images.\")\n",
      "NameError: name 'messagebox' is not defined\n"
     ]
    }
   ],
   "source": [
    "window = tk.Tk()\n",
    "window.geometry(\"400x200\")\n",
    "window.maxsize(600, 300)\n",
    "window.minsize(300,150)\n",
    "window.title(\"Data Collector\")\n",
    "\n",
    "# frame = tk.Frame(window)\n",
    "# frame.pack(side=tk.TOP, fill=tk.BOTH)\n",
    "\n",
    "\n",
    "label = tk.Label(window,text = \"ENTER USER NAME ↴\",font=('calibre',15,'normal') )\n",
    "label.pack(fill=tk.BOTH,side=tk.TOP, expand=True,pady=5,padx=5)\n",
    "\n",
    "entry = tk.Entry(window,font=('calibre',20,'normal') )\n",
    "entry.pack( fill=tk.X , side=tk.TOP, expand=True,pady=5,padx=5)\n",
    "\n",
    "# frame1 = tk.Frame(window)\n",
    "# frame1.pack(side=tk.BOTTOM)\n",
    "\n",
    "b2 = tk.Button(window, text = \"Update Data\" ,bg='#293d3d',font=('calibre',15,'normal') , fg = \"#3366ff\" ,command=call)\n",
    "b2.pack(fill=tk.BOTH, side=tk.BOTTOM, expand=True,pady=5,padx=5)\n",
    "\n",
    "b1 = tk.Button(window, text = \"New Data\" ,bg='#293d3d', fg = \"#66d9ff\" ,font=('calibre',15,'normal') ,command=new_data)\n",
    "b1.pack(side=tk.BOTTOM,fill=tk.BOTH, expand=True,pady=5,padx=5,)\n",
    "window.mainloop()"
   ]
  },
  {
   "cell_type": "code",
   "execution_count": null,
   "metadata": {},
   "outputs": [],
   "source": []
  }
 ],
 "metadata": {
  "kernelspec": {
   "display_name": "Python 3",
   "language": "python",
   "name": "python3"
  },
  "language_info": {
   "codemirror_mode": {
    "name": "ipython",
    "version": 3
   },
   "file_extension": ".py",
   "mimetype": "text/x-python",
   "name": "python",
   "nbconvert_exporter": "python",
   "pygments_lexer": "ipython3",
   "version": "3.8.3"
  }
 },
 "nbformat": 4,
 "nbformat_minor": 4
}
